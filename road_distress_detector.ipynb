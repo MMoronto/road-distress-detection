{
  "nbformat": 4,
  "nbformat_minor": 0,
  "metadata": {
    "colab": {
      "name": "road-distress-detector.ipynb",
      "provenance": [],
      "authorship_tag": "ABX9TyPb7mGWI2fFuZVBDaOSMh4z",
      "include_colab_link": true
    },
    "kernelspec": {
      "name": "python3",
      "display_name": "Python 3"
    },
    "language_info": {
      "name": "python"
    }
  },
  "cells": [
    {
      "cell_type": "markdown",
      "metadata": {
        "id": "view-in-github",
        "colab_type": "text"
      },
      "source": [
        "<a href=\"https://colab.research.google.com/github/MMoronto/road-distress-detection/blob/master/road_distress_detector.ipynb\" target=\"_parent\"><img src=\"https://colab.research.google.com/assets/colab-badge.svg\" alt=\"Open In Colab\"/></a>"
      ]
    },
    {
      "cell_type": "code",
      "metadata": {
        "colab": {
          "base_uri": "https://localhost:8080/"
        },
        "id": "2K4CHGeCdf_s",
        "outputId": "a4196d46-9e73-4874-efd8-e0d5a243f7b0"
      },
      "source": [
        "# Launch VSCode server\n",
        "!curl -fsSL https://code-server.dev/install.sh | sh\n",
        "!nohup code-server --port 9000 --auth none &\n",
        "\n",
        "# Tunnel its IP using ngrok\n",
        "!pip install pyngrok\n",
        "from pyngrok import ngrok\n",
        "# ngrok.set_auth_token(\"get from https://dashboard.ngrok.com/auth/your-authtoken, if you want to pay $10/month for a little bit better service\")\n",
        "url = ngrok.connect(9000)\n",
        "print(url)"
      ],
      "execution_count": 1,
      "outputs": [
        {
          "output_type": "stream",
          "name": "stdout",
          "text": [
            "Ubuntu 18.04.5 LTS\n",
            "Installing v3.12.0 of the amd64 deb package from GitHub.\n",
            "\n",
            "+ mkdir -p ~/.cache/code-server\n",
            "+ curl -#fL -o ~/.cache/code-server/code-server_3.12.0_amd64.deb.incomplete -C - https://github.com/cdr/code-server/releases/download/v3.12.0/code-server_3.12.0_amd64.deb\n",
            "######################################################################## 100.0%\n",
            "+ mv ~/.cache/code-server/code-server_3.12.0_amd64.deb.incomplete ~/.cache/code-server/code-server_3.12.0_amd64.deb\n",
            "+ dpkg -i ~/.cache/code-server/code-server_3.12.0_amd64.deb\n",
            "Selecting previously unselected package code-server.\n",
            "(Reading database ... 155219 files and directories currently installed.)\n",
            "Preparing to unpack .../code-server_3.12.0_amd64.deb ...\n",
            "Unpacking code-server (3.12.0) ...\n",
            "Setting up code-server (3.12.0) ...\n",
            "\n",
            "deb package has been installed.\n",
            "\n",
            "To have systemd start code-server now and restart on boot:\n",
            "  sudo systemctl enable --now code-server@$USER\n",
            "Or, if you don't want/need a background service you can run:\n",
            "  code-server\n",
            "nohup: appending output to 'nohup.out'\n",
            "Collecting pyngrok\n",
            "  Downloading pyngrok-5.1.0.tar.gz (745 kB)\n",
            "\u001b[K     |████████████████████████████████| 745 kB 5.2 MB/s \n",
            "\u001b[?25hRequirement already satisfied: PyYAML in /usr/local/lib/python3.7/dist-packages (from pyngrok) (3.13)\n",
            "Building wheels for collected packages: pyngrok\n",
            "  Building wheel for pyngrok (setup.py) ... \u001b[?25l\u001b[?25hdone\n",
            "  Created wheel for pyngrok: filename=pyngrok-5.1.0-py3-none-any.whl size=19006 sha256=08f40891d08d1c0154fd5d51d188626744e8c49b718b86f48377300891a5f602\n",
            "  Stored in directory: /root/.cache/pip/wheels/bf/e6/af/ccf6598ecefecd44104069371795cb9b3afbcd16987f6ccfb3\n",
            "Successfully built pyngrok\n",
            "Installing collected packages: pyngrok\n",
            "Successfully installed pyngrok-5.1.0\n",
            "NgrokTunnel: \"http://6c19-35-196-100-81.ngrok.io\" -> \"http://localhost:9000\"\n"
          ]
        }
      ]
    },
    {
      "cell_type": "code",
      "metadata": {
        "id": "uHwe-A5Sn0FB"
      },
      "source": [
        ""
      ],
      "execution_count": null,
      "outputs": []
    }
  ]
}